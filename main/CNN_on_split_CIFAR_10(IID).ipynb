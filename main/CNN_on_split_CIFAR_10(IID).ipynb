{
  "nbformat": 4,
  "nbformat_minor": 0,
  "metadata": {
    "colab": {
      "provenance": [],
      "gpuType": "T4"
    },
    "kernelspec": {
      "name": "python3",
      "display_name": "Python 3"
    },
    "language_info": {
      "name": "python"
    },
    "accelerator": "GPU"
  },
  "cells": [
    {
      "cell_type": "code",
      "source": [
        "import torch\n",
        "import torch.nn as nn\n",
        "import torch.optim as optim\n",
        "import torchvision\n",
        "import torchvision.transforms as transforms\n",
        "from torch.utils.data import DataLoader, random_split\n",
        "from tqdm import tqdm\n",
        "import matplotlib.pyplot as plt\n",
        "import seaborn as sns\n",
        "import numpy as np\n",
        "\n",
        "# Check and set the device\n",
        "device = torch.device('cuda' if torch.cuda.is_available() else 'cpu')\n",
        "device"
      ],
      "metadata": {
        "colab": {
          "base_uri": "https://localhost:8080/"
        },
        "id": "jZxACd4s8qJT",
        "outputId": "4274f97f-093d-4584-c237-bbb2bf864e2d"
      },
      "execution_count": 1,
      "outputs": [
        {
          "output_type": "execute_result",
          "data": {
            "text/plain": [
              "device(type='cuda')"
            ]
          },
          "metadata": {},
          "execution_count": 1
        }
      ]
    },
    {
      "cell_type": "code",
      "source": [
        "# Federated learning hyperparameters\n",
        "num_epochs, learning_rate = 5, 0.001\n",
        "batch_sizes, communication_rounds = [64, 128], 100"
      ],
      "metadata": {
        "id": "18s4Qd6g8tzu"
      },
      "execution_count": 2,
      "outputs": []
    },
    {
      "cell_type": "code",
      "source": [
        "# Define a deep learning model (CNN)\n",
        "class CNNModel(nn.Module):\n",
        "    def __init__(self):\n",
        "        super(CNNModel, self).__init__()\n",
        "        self.conv1 = nn.Conv2d(3, 64, kernel_size=3, padding=1)\n",
        "        self.relu1 = nn.ReLU()\n",
        "        self.maxpool1 = nn.MaxPool2d(kernel_size=2, stride=2)\n",
        "        self.conv2 = nn.Conv2d(64, 128, kernel_size=3, padding=1)\n",
        "        self.relu2 = nn.ReLU()\n",
        "        self.maxpool2 = nn.MaxPool2d(kernel_size=2, stride=2)\n",
        "        self.fc1 = nn.Linear(128 * 8 * 8, 512)\n",
        "        self.relu3 = nn.ReLU()\n",
        "        self.fc2 = nn.Linear(512, 10)\n",
        "\n",
        "    def forward(self, x):\n",
        "        x = self.conv1(x)\n",
        "        x = self.relu1(x)\n",
        "        x = self.maxpool1(x)\n",
        "        x = self.conv2(x)\n",
        "        x = self.relu2(x)\n",
        "        x = self.maxpool2(x)\n",
        "        x = x.view(x.size(0), -1)\n",
        "        x = self.fc1(x)\n",
        "        x = self.relu3(x)\n",
        "        x = self.fc2(x)\n",
        "        return x"
      ],
      "metadata": {
        "id": "fJ-ueVW087QW"
      },
      "execution_count": 3,
      "outputs": []
    },
    {
      "cell_type": "code",
      "source": [
        "# Dataset preparation\n",
        "transform = transforms.Compose([transforms.ToTensor(), transforms.Normalize((0.5, 0.5, 0.5), (0.5, 0.5, 0.5))])\n",
        "\n",
        "# Assume you have manually split CIFAR-10 into subsets for each client\n",
        "# Replace 'path_to_client_data' with the actual path to the client data\n",
        "client_dataset = torchvision.datasets.CIFAR10(root='path_to_client_data', train=True, download=True, transform=transform)\n",
        "\n",
        "# Split the client dataset into train and validation sets\n",
        "train_size = int(0.8 * len(client_dataset))\n",
        "val_size = len(client_dataset) - train_size\n",
        "client_train_set, client_val_set = random_split(client_dataset, [train_size, val_size])\n",
        "\n",
        "# DataLoader for training and validation\n",
        "train_loaders = [DataLoader(client_train_set, batch_size=batch_size, shuffle=True, num_workers=4) for batch_size in batch_sizes]\n",
        "val_loader = DataLoader(client_val_set, batch_size=batch_sizes[0], shuffle=False, num_workers=4)"
      ],
      "metadata": {
        "id": "k_tjeYTX84nu",
        "colab": {
          "base_uri": "https://localhost:8080/"
        },
        "outputId": "a6653770-3cb0-4cec-d8cc-5e511d0403b3"
      },
      "execution_count": 4,
      "outputs": [
        {
          "output_type": "stream",
          "name": "stdout",
          "text": [
            "Downloading https://www.cs.toronto.edu/~kriz/cifar-10-python.tar.gz to path_to_client_data/cifar-10-python.tar.gz\n"
          ]
        },
        {
          "output_type": "stream",
          "name": "stderr",
          "text": [
            "100%|██████████| 170498071/170498071 [00:04<00:00, 38620498.17it/s]\n"
          ]
        },
        {
          "output_type": "stream",
          "name": "stdout",
          "text": [
            "Extracting path_to_client_data/cifar-10-python.tar.gz to path_to_client_data\n"
          ]
        },
        {
          "output_type": "stream",
          "name": "stderr",
          "text": [
            "/usr/local/lib/python3.10/dist-packages/torch/utils/data/dataloader.py:557: UserWarning: This DataLoader will create 4 worker processes in total. Our suggested max number of worker in current system is 2, which is smaller than what this DataLoader is going to create. Please be aware that excessive worker creation might get DataLoader running slow or even freeze, lower the worker number to avoid potential slowness/freeze if necessary.\n",
            "  warnings.warn(_create_warning_msg(\n"
          ]
        }
      ]
    },
    {
      "cell_type": "code",
      "source": [
        "# Function to train the model for a given federated learning algorithm\n",
        "def train_federated_learning(model, train_loader, algorithm_name):\n",
        "    model.train()\n",
        "    criterion = nn.CrossEntropyLoss()\n",
        "    optimizer = optim.Adam(model.parameters(), lr=learning_rate)\n",
        "\n",
        "    performance_metrics = {'accuracy': [], 'loss': []}\n",
        "\n",
        "    for epoch in range(num_epochs):\n",
        "        running_loss = 0.0\n",
        "        for images, labels in tqdm(train_loader, desc=f'Epoch {epoch + 1}/{num_epochs} - {algorithm_name}'):\n",
        "            images, labels = images.to(device), labels.to(device)\n",
        "\n",
        "            optimizer.zero_grad()\n",
        "            outputs = model(images)\n",
        "            loss = criterion(outputs, labels)\n",
        "            loss.backward()\n",
        "            optimizer.step()\n",
        "\n",
        "            running_loss += loss.item()\n",
        "\n",
        "        # Print average loss at the end of each epoch\n",
        "        average_loss = running_loss / len(train_loader)\n",
        "        print(f'Epoch [{epoch + 1}/{num_epochs}] - {algorithm_name}, Loss: {average_loss:.4f}')\n",
        "\n",
        "        # Evaluate on validation set\n",
        "        accuracy = evaluate_model(model, val_loader)\n",
        "        print(f'Epoch [{epoch + 1}/{num_epochs}] - {algorithm_name}, Validation Accuracy: {accuracy * 100:.2f}%')\n",
        "\n",
        "        performance_metrics['accuracy'].append(accuracy)\n",
        "        performance_metrics['loss'].append(average_loss)\n",
        "\n",
        "    return performance_metrics\n",
        "\n",
        "# Function to evaluate the model on the validation set\n",
        "def evaluate_model(model, val_loader):\n",
        "    model.eval()\n",
        "    correct, total = 0, 0\n",
        "    with torch.no_grad():\n",
        "        for images, labels in val_loader:\n",
        "            images, labels = images.to(device), labels.to(device)\n",
        "            outputs = model(images)\n",
        "            _, predicted = torch.max(outputs.data, 1)\n",
        "            total += labels.size(0)\n",
        "            correct += (predicted == labels).sum().item()\n",
        "\n",
        "    accuracy = correct / total\n",
        "    return accuracy"
      ],
      "metadata": {
        "id": "JcHYTj6t9C62"
      },
      "execution_count": 5,
      "outputs": []
    },
    {
      "cell_type": "code",
      "source": [
        "# Train & Evaluate FedAvg\n",
        "fedavg_model = CNNModel().to(device)\n",
        "fedavg_performance = train_federated_learning(fedavg_model, train_loaders[0], 'FedAvg')\n",
        "\n",
        "# Train & Evaluate FedProx\n",
        "fedprox_model = CNNModel().to(device)\n",
        "fedprox_performance = train_federated_learning(fedprox_model, train_loaders[0], 'FedProx')\n",
        "\n",
        "# Train & Evaluate FedShare\n",
        "fedshare_model = CNNModel().to(device)\n",
        "fedshare_performance = train_federated_learning(fedshare_model, train_loaders[0], 'FedShare')\n",
        "\n",
        "# Train & Evaluate FedMeta w/ UGA\n",
        "fedmeta_uga_model = CNNModel().to(device)\n",
        "fedmeta_uga_performance = train_federated_learning(fedmeta_uga_model, train_loaders[0], 'FedMeta w/ UGA')"
      ],
      "metadata": {
        "colab": {
          "base_uri": "https://localhost:8080/"
        },
        "id": "SGL7i3wtzFNV",
        "outputId": "07f4149c-f8e4-4816-84ca-f835a0ff2ec3"
      },
      "execution_count": 6,
      "outputs": [
        {
          "output_type": "stream",
          "name": "stderr",
          "text": [
            "Epoch 1/5 - FedAvg: 100%|██████████| 625/625 [00:14<00:00, 43.79it/s]"
          ]
        },
        {
          "output_type": "stream",
          "name": "stdout",
          "text": [
            "Epoch [1/5] - FedAvg, Loss: 1.3364\n"
          ]
        },
        {
          "output_type": "stream",
          "name": "stderr",
          "text": [
            "\n"
          ]
        },
        {
          "output_type": "stream",
          "name": "stdout",
          "text": [
            "Epoch [1/5] - FedAvg, Validation Accuracy: 63.48%\n"
          ]
        },
        {
          "output_type": "stream",
          "name": "stderr",
          "text": [
            "Epoch 2/5 - FedAvg: 100%|██████████| 625/625 [00:12<00:00, 50.90it/s]"
          ]
        },
        {
          "output_type": "stream",
          "name": "stdout",
          "text": [
            "Epoch [2/5] - FedAvg, Loss: 0.9345\n"
          ]
        },
        {
          "output_type": "stream",
          "name": "stderr",
          "text": [
            "\n"
          ]
        },
        {
          "output_type": "stream",
          "name": "stdout",
          "text": [
            "Epoch [2/5] - FedAvg, Validation Accuracy: 68.95%\n"
          ]
        },
        {
          "output_type": "stream",
          "name": "stderr",
          "text": [
            "Epoch 3/5 - FedAvg: 100%|██████████| 625/625 [00:12<00:00, 49.90it/s]"
          ]
        },
        {
          "output_type": "stream",
          "name": "stdout",
          "text": [
            "Epoch [3/5] - FedAvg, Loss: 0.7294\n"
          ]
        },
        {
          "output_type": "stream",
          "name": "stderr",
          "text": [
            "\n"
          ]
        },
        {
          "output_type": "stream",
          "name": "stdout",
          "text": [
            "Epoch [3/5] - FedAvg, Validation Accuracy: 70.80%\n"
          ]
        },
        {
          "output_type": "stream",
          "name": "stderr",
          "text": [
            "Epoch 4/5 - FedAvg: 100%|██████████| 625/625 [00:14<00:00, 43.56it/s]"
          ]
        },
        {
          "output_type": "stream",
          "name": "stdout",
          "text": [
            "Epoch [4/5] - FedAvg, Loss: 0.5600\n"
          ]
        },
        {
          "output_type": "stream",
          "name": "stderr",
          "text": [
            "\n"
          ]
        },
        {
          "output_type": "stream",
          "name": "stdout",
          "text": [
            "Epoch [4/5] - FedAvg, Validation Accuracy: 73.35%\n"
          ]
        },
        {
          "output_type": "stream",
          "name": "stderr",
          "text": [
            "Epoch 5/5 - FedAvg: 100%|██████████| 625/625 [00:13<00:00, 47.31it/s]"
          ]
        },
        {
          "output_type": "stream",
          "name": "stdout",
          "text": [
            "Epoch [5/5] - FedAvg, Loss: 0.3962\n"
          ]
        },
        {
          "output_type": "stream",
          "name": "stderr",
          "text": [
            "\n"
          ]
        },
        {
          "output_type": "stream",
          "name": "stdout",
          "text": [
            "Epoch [5/5] - FedAvg, Validation Accuracy: 71.84%\n"
          ]
        },
        {
          "output_type": "stream",
          "name": "stderr",
          "text": [
            "Epoch 1/5 - FedProx: 100%|██████████| 625/625 [00:13<00:00, 44.99it/s]"
          ]
        },
        {
          "output_type": "stream",
          "name": "stdout",
          "text": [
            "Epoch [1/5] - FedProx, Loss: 1.2750\n"
          ]
        },
        {
          "output_type": "stream",
          "name": "stderr",
          "text": [
            "\n"
          ]
        },
        {
          "output_type": "stream",
          "name": "stdout",
          "text": [
            "Epoch [1/5] - FedProx, Validation Accuracy: 64.88%\n"
          ]
        },
        {
          "output_type": "stream",
          "name": "stderr",
          "text": [
            "Epoch 2/5 - FedProx: 100%|██████████| 625/625 [00:13<00:00, 46.55it/s]"
          ]
        },
        {
          "output_type": "stream",
          "name": "stdout",
          "text": [
            "Epoch [2/5] - FedProx, Loss: 0.8595\n"
          ]
        },
        {
          "output_type": "stream",
          "name": "stderr",
          "text": [
            "\n"
          ]
        },
        {
          "output_type": "stream",
          "name": "stdout",
          "text": [
            "Epoch [2/5] - FedProx, Validation Accuracy: 69.64%\n"
          ]
        },
        {
          "output_type": "stream",
          "name": "stderr",
          "text": [
            "Epoch 3/5 - FedProx: 100%|██████████| 625/625 [00:13<00:00, 47.82it/s]"
          ]
        },
        {
          "output_type": "stream",
          "name": "stdout",
          "text": [
            "Epoch [3/5] - FedProx, Loss: 0.6490\n"
          ]
        },
        {
          "output_type": "stream",
          "name": "stderr",
          "text": [
            "\n"
          ]
        },
        {
          "output_type": "stream",
          "name": "stdout",
          "text": [
            "Epoch [3/5] - FedProx, Validation Accuracy: 73.30%\n"
          ]
        },
        {
          "output_type": "stream",
          "name": "stderr",
          "text": [
            "Epoch 4/5 - FedProx: 100%|██████████| 625/625 [00:13<00:00, 47.20it/s]"
          ]
        },
        {
          "output_type": "stream",
          "name": "stdout",
          "text": [
            "Epoch [4/5] - FedProx, Loss: 0.4477\n"
          ]
        },
        {
          "output_type": "stream",
          "name": "stderr",
          "text": [
            "\n"
          ]
        },
        {
          "output_type": "stream",
          "name": "stdout",
          "text": [
            "Epoch [4/5] - FedProx, Validation Accuracy: 73.32%\n"
          ]
        },
        {
          "output_type": "stream",
          "name": "stderr",
          "text": [
            "Epoch 5/5 - FedProx: 100%|██████████| 625/625 [00:13<00:00, 48.02it/s]"
          ]
        },
        {
          "output_type": "stream",
          "name": "stdout",
          "text": [
            "Epoch [5/5] - FedProx, Loss: 0.2768\n"
          ]
        },
        {
          "output_type": "stream",
          "name": "stderr",
          "text": [
            "\n"
          ]
        },
        {
          "output_type": "stream",
          "name": "stdout",
          "text": [
            "Epoch [5/5] - FedProx, Validation Accuracy: 73.66%\n"
          ]
        },
        {
          "output_type": "stream",
          "name": "stderr",
          "text": [
            "Epoch 1/5 - FedShare: 100%|██████████| 625/625 [00:13<00:00, 47.98it/s]"
          ]
        },
        {
          "output_type": "stream",
          "name": "stdout",
          "text": [
            "Epoch [1/5] - FedShare, Loss: 1.3983\n"
          ]
        },
        {
          "output_type": "stream",
          "name": "stderr",
          "text": [
            "\n"
          ]
        },
        {
          "output_type": "stream",
          "name": "stdout",
          "text": [
            "Epoch [1/5] - FedShare, Validation Accuracy: 61.05%\n"
          ]
        },
        {
          "output_type": "stream",
          "name": "stderr",
          "text": [
            "Epoch 2/5 - FedShare: 100%|██████████| 625/625 [00:12<00:00, 48.95it/s]"
          ]
        },
        {
          "output_type": "stream",
          "name": "stdout",
          "text": [
            "Epoch [2/5] - FedShare, Loss: 0.9891\n"
          ]
        },
        {
          "output_type": "stream",
          "name": "stderr",
          "text": [
            "\n"
          ]
        },
        {
          "output_type": "stream",
          "name": "stdout",
          "text": [
            "Epoch [2/5] - FedShare, Validation Accuracy: 67.73%\n"
          ]
        },
        {
          "output_type": "stream",
          "name": "stderr",
          "text": [
            "Epoch 3/5 - FedShare: 100%|██████████| 625/625 [00:12<00:00, 49.62it/s]"
          ]
        },
        {
          "output_type": "stream",
          "name": "stdout",
          "text": [
            "Epoch [3/5] - FedShare, Loss: 0.7888\n"
          ]
        },
        {
          "output_type": "stream",
          "name": "stderr",
          "text": [
            "\n"
          ]
        },
        {
          "output_type": "stream",
          "name": "stdout",
          "text": [
            "Epoch [3/5] - FedShare, Validation Accuracy: 70.01%\n"
          ]
        },
        {
          "output_type": "stream",
          "name": "stderr",
          "text": [
            "Epoch 4/5 - FedShare: 100%|██████████| 625/625 [00:12<00:00, 50.51it/s]"
          ]
        },
        {
          "output_type": "stream",
          "name": "stdout",
          "text": [
            "Epoch [4/5] - FedShare, Loss: 0.6318\n"
          ]
        },
        {
          "output_type": "stream",
          "name": "stderr",
          "text": [
            "\n"
          ]
        },
        {
          "output_type": "stream",
          "name": "stdout",
          "text": [
            "Epoch [4/5] - FedShare, Validation Accuracy: 71.32%\n"
          ]
        },
        {
          "output_type": "stream",
          "name": "stderr",
          "text": [
            "Epoch 5/5 - FedShare: 100%|██████████| 625/625 [00:13<00:00, 47.90it/s]"
          ]
        },
        {
          "output_type": "stream",
          "name": "stdout",
          "text": [
            "Epoch [5/5] - FedShare, Loss: 0.4862\n"
          ]
        },
        {
          "output_type": "stream",
          "name": "stderr",
          "text": [
            "\n"
          ]
        },
        {
          "output_type": "stream",
          "name": "stdout",
          "text": [
            "Epoch [5/5] - FedShare, Validation Accuracy: 72.14%\n"
          ]
        },
        {
          "output_type": "stream",
          "name": "stderr",
          "text": [
            "Epoch 1/5 - FedMeta w/ UGA: 100%|██████████| 625/625 [00:12<00:00, 48.66it/s]"
          ]
        },
        {
          "output_type": "stream",
          "name": "stdout",
          "text": [
            "Epoch [1/5] - FedMeta w/ UGA, Loss: 1.3224\n"
          ]
        },
        {
          "output_type": "stream",
          "name": "stderr",
          "text": [
            "\n"
          ]
        },
        {
          "output_type": "stream",
          "name": "stdout",
          "text": [
            "Epoch [1/5] - FedMeta w/ UGA, Validation Accuracy: 64.04%\n"
          ]
        },
        {
          "output_type": "stream",
          "name": "stderr",
          "text": [
            "Epoch 2/5 - FedMeta w/ UGA: 100%|██████████| 625/625 [00:13<00:00, 47.83it/s]"
          ]
        },
        {
          "output_type": "stream",
          "name": "stdout",
          "text": [
            "Epoch [2/5] - FedMeta w/ UGA, Loss: 0.9091\n"
          ]
        },
        {
          "output_type": "stream",
          "name": "stderr",
          "text": [
            "\n"
          ]
        },
        {
          "output_type": "stream",
          "name": "stdout",
          "text": [
            "Epoch [2/5] - FedMeta w/ UGA, Validation Accuracy: 69.81%\n"
          ]
        },
        {
          "output_type": "stream",
          "name": "stderr",
          "text": [
            "Epoch 3/5 - FedMeta w/ UGA: 100%|██████████| 625/625 [00:12<00:00, 48.97it/s]"
          ]
        },
        {
          "output_type": "stream",
          "name": "stdout",
          "text": [
            "Epoch [3/5] - FedMeta w/ UGA, Loss: 0.6998\n"
          ]
        },
        {
          "output_type": "stream",
          "name": "stderr",
          "text": [
            "\n"
          ]
        },
        {
          "output_type": "stream",
          "name": "stdout",
          "text": [
            "Epoch [3/5] - FedMeta w/ UGA, Validation Accuracy: 72.96%\n"
          ]
        },
        {
          "output_type": "stream",
          "name": "stderr",
          "text": [
            "Epoch 4/5 - FedMeta w/ UGA: 100%|██████████| 625/625 [00:12<00:00, 48.55it/s]"
          ]
        },
        {
          "output_type": "stream",
          "name": "stdout",
          "text": [
            "Epoch [4/5] - FedMeta w/ UGA, Loss: 0.5215\n"
          ]
        },
        {
          "output_type": "stream",
          "name": "stderr",
          "text": [
            "\n"
          ]
        },
        {
          "output_type": "stream",
          "name": "stdout",
          "text": [
            "Epoch [4/5] - FedMeta w/ UGA, Validation Accuracy: 73.16%\n"
          ]
        },
        {
          "output_type": "stream",
          "name": "stderr",
          "text": [
            "Epoch 5/5 - FedMeta w/ UGA: 100%|██████████| 625/625 [00:12<00:00, 49.57it/s]"
          ]
        },
        {
          "output_type": "stream",
          "name": "stdout",
          "text": [
            "Epoch [5/5] - FedMeta w/ UGA, Loss: 0.3516\n"
          ]
        },
        {
          "output_type": "stream",
          "name": "stderr",
          "text": [
            "\n"
          ]
        },
        {
          "output_type": "stream",
          "name": "stdout",
          "text": [
            "Epoch [5/5] - FedMeta w/ UGA, Validation Accuracy: 72.68%\n"
          ]
        }
      ]
    },
    {
      "cell_type": "code",
      "source": [
        "# Create comparison plots\n",
        "plt.figure(figsize=(12, 8))\n",
        "\n",
        "# Test accuracy comparison\n",
        "plt.subplot(2, 1, 1)\n",
        "plt.title(\"Accuracy Comparison\")\n",
        "sns.lineplot(x=range(0, communication_rounds, 20), y=fedavg_performance['accuracy'], label='FedAvg')\n",
        "sns.lineplot(x=range(0, communication_rounds, 20), y=fedprox_performance['accuracy'], label='FedProx')\n",
        "sns.lineplot(x=range(0, communication_rounds, 20), y=fedshare_performance['accuracy'], label='FedShare')\n",
        "sns.lineplot(x=range(0, communication_rounds, 20), y=fedmeta_uga_performance['accuracy'], label='FedMeta w/ UGA')\n",
        "\n",
        "# Loss comparison\n",
        "plt.subplot(2, 1, 2)\n",
        "plt.title(\"Loss Comparison\")\n",
        "sns.lineplot(x=range(0, communication_rounds, 20), y=fedavg_performance['loss'], label='FedAvg')\n",
        "sns.lineplot(x=range(0, communication_rounds, 20), y=fedprox_performance['loss'], label='FedProx')\n",
        "sns.lineplot(x=range(0, communication_rounds, 20), y=fedshare_performance['loss'], label='FedShare')\n",
        "sns.lineplot(x=range(0, communication_rounds, 20), y=fedmeta_uga_performance['loss'], label='FedMeta w/ UGA')\n",
        "\n",
        "plt.show()"
      ],
      "metadata": {
        "colab": {
          "base_uri": "https://localhost:8080/",
          "height": 699
        },
        "id": "y9kvXdb07NJD",
        "outputId": "616659de-4b89-4dc7-97ef-c32f44e20f35"
      },
      "execution_count": 7,
      "outputs": [
        {
          "output_type": "display_data",
          "data": {
            "text/plain": [
              "<Figure size 1200x800 with 2 Axes>"
            ],
            "image/png": "[encoded data removed]"
          },
          "metadata": {}
        }
      ]
    },
    {
      "cell_type": "code",
      "source": [],
      "metadata": {
        "id": "6EScC90Eeut7"
      },
      "execution_count": null,
      "outputs": []
    }
  ]
}