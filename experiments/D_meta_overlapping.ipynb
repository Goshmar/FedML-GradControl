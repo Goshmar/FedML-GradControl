{
  "nbformat": 4,
  "nbformat_minor": 0,
  "metadata": {
    "colab": {
      "provenance": [],
      "gpuType": "T4"
    },
    "kernelspec": {
      "name": "python3",
      "display_name": "Python 3"
    },
    "language_info": {
      "name": "python"
    },
    "accelerator": "GPU"
  },
  "cells": [
    {
      "cell_type": "code",
      "source": [
        "import torch\n",
        "import torch.nn as nn\n",
        "import torch.optim as optim\n",
        "import torchvision\n",
        "import torchvision.transforms as transforms\n",
        "from torch.utils.data import DataLoader, random_split\n",
        "from tqdm import tqdm\n",
        "import matplotlib.pyplot as plt\n",
        "import seaborn as sns\n",
        "import numpy as np\n",
        "\n",
        "# Check and set the device\n",
        "device = torch.device('cuda' if torch.cuda.is_available() else 'cpu')\n",
        "device"
      ],
      "metadata": {
        "colab": {
          "base_uri": "https://localhost:8080/"
        },
        "id": "jZxACd4s8qJT",
        "outputId": "c83a4bef-f60f-46e5-8771-4e47addca239"
      },
      "execution_count": 4,
      "outputs": [
        {
          "output_type": "execute_result",
          "data": {
            "text/plain": [
              "device(type='cuda')"
            ]
          },
          "metadata": {},
          "execution_count": 4
        }
      ]
    },
    {
      "cell_type": "code",
      "source": [
        "# Federated learning hyperparameters\n",
        "num_epochs, learning_rate = 5, 0.001\n",
        "batch_sizes, communication_rounds = [64, 128], 100\n",
        "overlap_percentage = 25 # Dmeta hyperparameter"
      ],
      "metadata": {
        "id": "18s4Qd6g8tzu"
      },
      "execution_count": 5,
      "outputs": []
    },
    {
      "cell_type": "code",
      "source": [
        "# Define a deep learning model (CNN)\n",
        "class CNNModel(nn.Module):\n",
        "    def __init__(self):\n",
        "        super(CNNModel, self).__init__()\n",
        "        # Modify the architecture based on your requirements\n",
        "        self.conv1 = nn.Conv2d(1, 32, kernel_size=3, padding=1)\n",
        "        self.relu1 = nn.ReLU()\n",
        "        self.maxpool1 = nn.MaxPool2d(kernel_size=2, stride=2)\n",
        "        self.conv2 = nn.Conv2d(32, 64, kernel_size=3, padding=1)\n",
        "        self.relu2 = nn.ReLU()\n",
        "        self.maxpool2 = nn.MaxPool2d(kernel_size=2, stride=2)\n",
        "        self.fc1 = nn.Linear(64 * 7 * 7, 512)\n",
        "        self.relu3 = nn.ReLU()\n",
        "        self.fc2 = nn.Linear(512, 10)  # Assuming 10 classes\n",
        "\n",
        "    def forward(self, x):\n",
        "        x = self.conv1(x)\n",
        "        x = self.relu1(x)\n",
        "        x = self.maxpool1(x)\n",
        "        x = self.conv2(x)\n",
        "        x = self.relu2(x)\n",
        "        x = self.maxpool2(x)\n",
        "        x = x.view(x.size(0), -1)\n",
        "        x = self.fc1(x)\n",
        "        x = self.relu3(x)\n",
        "        x = self.fc2(x)\n",
        "        return x"
      ],
      "metadata": {
        "id": "fJ-ueVW087QW"
      },
      "execution_count": 6,
      "outputs": []
    },
    {
      "cell_type": "code",
      "source": [
        "# Dataset preparation\n",
        "transform = transforms.Compose([transforms.ToTensor(), transforms.Normalize((0.5,), (0.5,))])\n",
        "\n",
        "# Assuming you have the FEMNIST dataset downloaded and split for each client\n",
        "# Replace 'path_to_client_data' with the actual path to the client data\n",
        "client_dataset = torchvision.datasets.FashionMNIST(root='path_to_client_data', train=True, download=True, transform=transform)\n",
        "\n",
        "# Split the client dataset into train and validation sets\n",
        "train_size = int(0.8 * len(client_dataset))\n",
        "val_size = len(client_dataset) - train_size\n",
        "client_train_set, client_val_set = random_split(client_dataset, [train_size, val_size])\n",
        "\n",
        "# DataLoader for training and validation\n",
        "train_loaders = [DataLoader(client_train_set, batch_size=batch_size, shuffle=True, num_workers=4) for batch_size in batch_sizes]\n",
        "val_loader = DataLoader(client_val_set, batch_size=batch_sizes[0], shuffle=False, num_workers=4)"
      ],
      "metadata": {
        "colab": {
          "base_uri": "https://localhost:8080/"
        },
        "id": "7FziDvqIm_AG",
        "outputId": "ed8bc5a3-a90f-45e4-9227-58faa33b9746"
      },
      "execution_count": 7,
      "outputs": [
        {
          "output_type": "stream",
          "name": "stdout",
          "text": [
            "Downloading http://fashion-mnist.s3-website.eu-central-1.amazonaws.com/train-images-idx3-ubyte.gz\n",
            "Downloading http://fashion-mnist.s3-website.eu-central-1.amazonaws.com/train-images-idx3-ubyte.gz to path_to_client_data/FashionMNIST/raw/train-images-idx3-ubyte.gz\n"
          ]
        },
        {
          "output_type": "stream",
          "name": "stderr",
          "text": [
            "100%|██████████| 26421880/26421880 [00:02<00:00, 9923516.55it/s] \n"
          ]
        },
        {
          "output_type": "stream",
          "name": "stdout",
          "text": [
            "Extracting path_to_client_data/FashionMNIST/raw/train-images-idx3-ubyte.gz to path_to_client_data/FashionMNIST/raw\n",
            "\n",
            "Downloading http://fashion-mnist.s3-website.eu-central-1.amazonaws.com/train-labels-idx1-ubyte.gz\n",
            "Downloading http://fashion-mnist.s3-website.eu-central-1.amazonaws.com/train-labels-idx1-ubyte.gz to path_to_client_data/FashionMNIST/raw/train-labels-idx1-ubyte.gz\n"
          ]
        },
        {
          "output_type": "stream",
          "name": "stderr",
          "text": [
            "100%|██████████| 29515/29515 [00:00<00:00, 167024.05it/s]\n"
          ]
        },
        {
          "output_type": "stream",
          "name": "stdout",
          "text": [
            "Extracting path_to_client_data/FashionMNIST/raw/train-labels-idx1-ubyte.gz to path_to_client_data/FashionMNIST/raw\n",
            "\n",
            "Downloading http://fashion-mnist.s3-website.eu-central-1.amazonaws.com/t10k-images-idx3-ubyte.gz\n",
            "Downloading http://fashion-mnist.s3-website.eu-central-1.amazonaws.com/t10k-images-idx3-ubyte.gz to path_to_client_data/FashionMNIST/raw/t10k-images-idx3-ubyte.gz\n"
          ]
        },
        {
          "output_type": "stream",
          "name": "stderr",
          "text": [
            "100%|██████████| 4422102/4422102 [00:01<00:00, 3100686.00it/s]\n"
          ]
        },
        {
          "output_type": "stream",
          "name": "stdout",
          "text": [
            "Extracting path_to_client_data/FashionMNIST/raw/t10k-images-idx3-ubyte.gz to path_to_client_data/FashionMNIST/raw\n",
            "\n",
            "Downloading http://fashion-mnist.s3-website.eu-central-1.amazonaws.com/t10k-labels-idx1-ubyte.gz\n",
            "Downloading http://fashion-mnist.s3-website.eu-central-1.amazonaws.com/t10k-labels-idx1-ubyte.gz to path_to_client_data/FashionMNIST/raw/t10k-labels-idx1-ubyte.gz\n"
          ]
        },
        {
          "output_type": "stream",
          "name": "stderr",
          "text": [
            "100%|██████████| 5148/5148 [00:00<00:00, 5977928.29it/s]"
          ]
        },
        {
          "output_type": "stream",
          "name": "stdout",
          "text": [
            "Extracting path_to_client_data/FashionMNIST/raw/t10k-labels-idx1-ubyte.gz to path_to_client_data/FashionMNIST/raw\n",
            "\n"
          ]
        },
        {
          "output_type": "stream",
          "name": "stderr",
          "text": [
            "\n",
            "/usr/local/lib/python3.10/dist-packages/torch/utils/data/dataloader.py:557: UserWarning: This DataLoader will create 4 worker processes in total. Our suggested max number of worker in current system is 2, which is smaller than what this DataLoader is going to create. Please be aware that excessive worker creation might get DataLoader running slow or even freeze, lower the worker number to avoid potential slowness/freeze if necessary.\n",
            "  warnings.warn(_create_warning_msg(\n"
          ]
        }
      ]
    },
    {
      "cell_type": "code",
      "source": [
        "# Function to train the model for a given federated learning algorithm\n",
        "def train_federated_learning_with_dmeta(model, train_loader, dmeta_loader, algorithm_name):\n",
        "    model.train()\n",
        "    criterion = nn.CrossEntropyLoss()\n",
        "    optimizer = optim.Adam(model.parameters(), lr=learning_rate)\n",
        "\n",
        "    performance_metrics = {'accuracy': [], 'loss': []}\n",
        "\n",
        "    for epoch in range(num_epochs):\n",
        "        running_loss = 0.0\n",
        "\n",
        "        # Train on D\n",
        "        for images, labels in tqdm(train_loader, desc=f'Epoch {epoch + 1}/{num_epochs} - {algorithm_name} - D'):\n",
        "            images, labels = images.to(device), labels.to(device)\n",
        "\n",
        "            optimizer.zero_grad()\n",
        "            outputs = model(images)\n",
        "            loss = criterion(outputs, labels)\n",
        "            loss.backward()\n",
        "            optimizer.step()\n",
        "\n",
        "            running_loss += loss.item()\n",
        "\n",
        "        # Train on Dmeta\n",
        "        for images, labels in tqdm(dmeta_loader, desc=f'Epoch {epoch + 1}/{num_epochs} - {algorithm_name} - Dmeta'):\n",
        "            images, labels = images.to(device), labels.to(device)\n",
        "\n",
        "            optimizer.zero_grad()\n",
        "            outputs = model(images)\n",
        "            loss = criterion(outputs, labels)\n",
        "            loss.backward()\n",
        "            optimizer.step()\n",
        "\n",
        "            running_loss += loss.item()\n",
        "\n",
        "        # Print average loss at the end of each epoch\n",
        "        average_loss = running_loss / (len(train_loader) + len(dmeta_loader))\n",
        "        print(f'Epoch [{epoch + 1}/{num_epochs}] - {algorithm_name}, Loss: {average_loss:.4f}')\n",
        "\n",
        "        # Evaluate on validation set\n",
        "        accuracy = evaluate_model(model, val_loader)\n",
        "        print(f'Epoch [{epoch + 1}/{num_epochs}] - {algorithm_name}, Validation Accuracy: {accuracy * 100:.2f}%')\n",
        "\n",
        "        performance_metrics['accuracy'].append(accuracy)\n",
        "        performance_metrics['loss'].append(average_loss)\n",
        "\n",
        "    return performance_metrics\n",
        "\n",
        "def train_federated_learning(model, train_loader, algorithm_name):\n",
        "    model.train()\n",
        "    criterion = nn.CrossEntropyLoss()\n",
        "    optimizer = optim.Adam(model.parameters(), lr=learning_rate)\n",
        "\n",
        "    performance_metrics = {'accuracy': [], 'loss': []}\n",
        "\n",
        "    for epoch in range(num_epochs):\n",
        "        running_loss = 0.0\n",
        "        for images, labels in tqdm(train_loader, desc=f'Epoch {epoch + 1}/{num_epochs} - {algorithm_name}'):\n",
        "            images, labels = images.to(device), labels.to(device)\n",
        "\n",
        "            optimizer.zero_grad()\n",
        "            outputs = model(images)\n",
        "            loss = criterion(outputs, labels)\n",
        "            loss.backward()\n",
        "            optimizer.step()\n",
        "\n",
        "            running_loss += loss.item()\n",
        "\n",
        "        # Print average loss at the end of each epoch\n",
        "        average_loss = running_loss / len(train_loader)\n",
        "        print(f'Epoch [{epoch + 1}/{num_epochs}] - {algorithm_name}, Loss: {average_loss:.4f}')\n",
        "\n",
        "        # Evaluate on validation set\n",
        "        accuracy = evaluate_model(model, val_loader)\n",
        "        print(f'Epoch [{epoch + 1}/{num_epochs}] - {algorithm_name}, Validation Accuracy: {accuracy * 100:.2f}%')\n",
        "\n",
        "        performance_metrics['accuracy'].append(accuracy)\n",
        "        performance_metrics['loss'].append(average_loss)\n",
        "\n",
        "    return performance_metrics\n",
        "\n",
        "# Function to evaluate the model on the validation set\n",
        "def evaluate_model(model, val_loader):\n",
        "    model.eval()\n",
        "    correct, total = 0, 0\n",
        "    with torch.no_grad():\n",
        "        for images, labels in val_loader:\n",
        "            images, labels = images.to(device), labels.to(device)\n",
        "            outputs = model(images)\n",
        "            _, predicted = torch.max(outputs.data, 1)\n",
        "            total += labels.size(0)\n",
        "            correct += (predicted == labels).sum().item()\n",
        "\n",
        "    accuracy = correct / total\n",
        "    return accuracy"
      ],
      "metadata": {
        "id": "JcHYTj6t9C62"
      },
      "execution_count": 23,
      "outputs": []
    },
    {
      "cell_type": "code",
      "source": [
        "# Train & Evaluate FedAvg\n",
        "fedavg_model = CNNModel().to(device)\n",
        "fedavg_performance = train_federated_learning(fedavg_model, train_loaders[0], 'FedAvg')\n",
        "\n",
        "# Train & Evaluate FedProx\n",
        "fedprox_model = CNNModel().to(device)\n",
        "fedprox_performance = train_federated_learning(fedprox_model, train_loaders[0], 'FedProx')\n",
        "\n",
        "# Train & Evaluate FedShare\n",
        "fedshare_model = CNNModel().to(device)\n",
        "fedshare_performance = train_federated_learning(fedshare_model, train_loaders[0], 'FedShare')\n",
        "\n",
        "# Train & Evaluate FedMeta w/ UGA\n",
        "fedmeta_uga_model = CNNModel().to(device)\n",
        "fedmeta_uga_performance = train_federated_learning(fedmeta_uga_model, train_loaders[0], 'FedMeta w/ UGA')"
      ],
      "metadata": {
        "colab": {
          "base_uri": "https://localhost:8080/"
        },
        "id": "wGNdQdJpqrqr",
        "outputId": "8fd81697-567e-4bed-f8e3-6f43afe0255e"
      },
      "execution_count": 24,
      "outputs": [
        {
          "output_type": "stream",
          "name": "stderr",
          "text": [
            "Epoch 1/5 - FedAvg: 100%|██████████| 750/750 [00:14<00:00, 50.98it/s]\n"
          ]
        },
        {
          "output_type": "stream",
          "name": "stdout",
          "text": [
            "Epoch [1/5] - FedAvg, Loss: 0.4248\n",
            "Epoch [1/5] - FedAvg, Validation Accuracy: 88.83%\n"
          ]
        },
        {
          "output_type": "stream",
          "name": "stderr",
          "text": [
            "Epoch 2/5 - FedAvg: 100%|██████████| 750/750 [00:17<00:00, 43.53it/s]"
          ]
        },
        {
          "output_type": "stream",
          "name": "stdout",
          "text": [
            "Epoch [2/5] - FedAvg, Loss: 0.2702\n"
          ]
        },
        {
          "output_type": "stream",
          "name": "stderr",
          "text": [
            "\n"
          ]
        },
        {
          "output_type": "stream",
          "name": "stdout",
          "text": [
            "Epoch [2/5] - FedAvg, Validation Accuracy: 90.47%\n"
          ]
        },
        {
          "output_type": "stream",
          "name": "stderr",
          "text": [
            "Epoch 3/5 - FedAvg: 100%|██████████| 750/750 [00:16<00:00, 45.50it/s]"
          ]
        },
        {
          "output_type": "stream",
          "name": "stdout",
          "text": [
            "Epoch [3/5] - FedAvg, Loss: 0.2183\n"
          ]
        },
        {
          "output_type": "stream",
          "name": "stderr",
          "text": [
            "\n"
          ]
        },
        {
          "output_type": "stream",
          "name": "stdout",
          "text": [
            "Epoch [3/5] - FedAvg, Validation Accuracy: 91.43%\n"
          ]
        },
        {
          "output_type": "stream",
          "name": "stderr",
          "text": [
            "Epoch 4/5 - FedAvg: 100%|██████████| 750/750 [00:17<00:00, 44.09it/s]"
          ]
        },
        {
          "output_type": "stream",
          "name": "stdout",
          "text": [
            "Epoch [4/5] - FedAvg, Loss: 0.1809\n"
          ]
        },
        {
          "output_type": "stream",
          "name": "stderr",
          "text": [
            "\n"
          ]
        },
        {
          "output_type": "stream",
          "name": "stdout",
          "text": [
            "Epoch [4/5] - FedAvg, Validation Accuracy: 91.84%\n"
          ]
        },
        {
          "output_type": "stream",
          "name": "stderr",
          "text": [
            "Epoch 5/5 - FedAvg: 100%|██████████| 750/750 [00:13<00:00, 54.67it/s]"
          ]
        },
        {
          "output_type": "stream",
          "name": "stdout",
          "text": [
            "Epoch [5/5] - FedAvg, Loss: 0.1510\n"
          ]
        },
        {
          "output_type": "stream",
          "name": "stderr",
          "text": [
            "\n"
          ]
        },
        {
          "output_type": "stream",
          "name": "stdout",
          "text": [
            "Epoch [5/5] - FedAvg, Validation Accuracy: 91.99%\n"
          ]
        },
        {
          "output_type": "stream",
          "name": "stderr",
          "text": [
            "Epoch 1/5 - FedProx: 100%|██████████| 750/750 [00:15<00:00, 49.02it/s]"
          ]
        },
        {
          "output_type": "stream",
          "name": "stdout",
          "text": [
            "Epoch [1/5] - FedProx, Loss: 0.4260\n"
          ]
        },
        {
          "output_type": "stream",
          "name": "stderr",
          "text": [
            "\n"
          ]
        },
        {
          "output_type": "stream",
          "name": "stdout",
          "text": [
            "Epoch [1/5] - FedProx, Validation Accuracy: 88.70%\n"
          ]
        },
        {
          "output_type": "stream",
          "name": "stderr",
          "text": [
            "Epoch 2/5 - FedProx: 100%|██████████| 750/750 [00:15<00:00, 48.71it/s]"
          ]
        },
        {
          "output_type": "stream",
          "name": "stdout",
          "text": [
            "Epoch [2/5] - FedProx, Loss: 0.2730\n"
          ]
        },
        {
          "output_type": "stream",
          "name": "stderr",
          "text": [
            "\n"
          ]
        },
        {
          "output_type": "stream",
          "name": "stdout",
          "text": [
            "Epoch [2/5] - FedProx, Validation Accuracy: 90.77%\n"
          ]
        },
        {
          "output_type": "stream",
          "name": "stderr",
          "text": [
            "Epoch 3/5 - FedProx: 100%|██████████| 750/750 [00:14<00:00, 51.64it/s]"
          ]
        },
        {
          "output_type": "stream",
          "name": "stdout",
          "text": [
            "Epoch [3/5] - FedProx, Loss: 0.2232\n"
          ]
        },
        {
          "output_type": "stream",
          "name": "stderr",
          "text": [
            "\n"
          ]
        },
        {
          "output_type": "stream",
          "name": "stdout",
          "text": [
            "Epoch [3/5] - FedProx, Validation Accuracy: 90.69%\n"
          ]
        },
        {
          "output_type": "stream",
          "name": "stderr",
          "text": [
            "Epoch 4/5 - FedProx: 100%|██████████| 750/750 [00:13<00:00, 56.11it/s]"
          ]
        },
        {
          "output_type": "stream",
          "name": "stdout",
          "text": [
            "Epoch [4/5] - FedProx, Loss: 0.1869\n"
          ]
        },
        {
          "output_type": "stream",
          "name": "stderr",
          "text": [
            "\n"
          ]
        },
        {
          "output_type": "stream",
          "name": "stdout",
          "text": [
            "Epoch [4/5] - FedProx, Validation Accuracy: 91.84%\n"
          ]
        },
        {
          "output_type": "stream",
          "name": "stderr",
          "text": [
            "Epoch 5/5 - FedProx: 100%|██████████| 750/750 [00:13<00:00, 55.40it/s]"
          ]
        },
        {
          "output_type": "stream",
          "name": "stdout",
          "text": [
            "Epoch [5/5] - FedProx, Loss: 0.1534\n"
          ]
        },
        {
          "output_type": "stream",
          "name": "stderr",
          "text": [
            "\n"
          ]
        },
        {
          "output_type": "stream",
          "name": "stdout",
          "text": [
            "Epoch [5/5] - FedProx, Validation Accuracy: 91.83%\n"
          ]
        },
        {
          "output_type": "stream",
          "name": "stderr",
          "text": [
            "Epoch 1/5 - FedShare: 100%|██████████| 750/750 [00:13<00:00, 55.98it/s]"
          ]
        },
        {
          "output_type": "stream",
          "name": "stdout",
          "text": [
            "Epoch [1/5] - FedShare, Loss: 0.4258\n"
          ]
        },
        {
          "output_type": "stream",
          "name": "stderr",
          "text": [
            "\n"
          ]
        },
        {
          "output_type": "stream",
          "name": "stdout",
          "text": [
            "Epoch [1/5] - FedShare, Validation Accuracy: 88.70%\n"
          ]
        },
        {
          "output_type": "stream",
          "name": "stderr",
          "text": [
            "Epoch 2/5 - FedShare: 100%|██████████| 750/750 [00:13<00:00, 56.16it/s]"
          ]
        },
        {
          "output_type": "stream",
          "name": "stdout",
          "text": [
            "Epoch [2/5] - FedShare, Loss: 0.2702\n"
          ]
        },
        {
          "output_type": "stream",
          "name": "stderr",
          "text": [
            "\n"
          ]
        },
        {
          "output_type": "stream",
          "name": "stdout",
          "text": [
            "Epoch [2/5] - FedShare, Validation Accuracy: 90.40%\n"
          ]
        },
        {
          "output_type": "stream",
          "name": "stderr",
          "text": [
            "Epoch 3/5 - FedShare: 100%|██████████| 750/750 [00:13<00:00, 53.97it/s]"
          ]
        },
        {
          "output_type": "stream",
          "name": "stdout",
          "text": [
            "Epoch [3/5] - FedShare, Loss: 0.2204\n"
          ]
        },
        {
          "output_type": "stream",
          "name": "stderr",
          "text": [
            "\n"
          ]
        },
        {
          "output_type": "stream",
          "name": "stdout",
          "text": [
            "Epoch [3/5] - FedShare, Validation Accuracy: 91.44%\n"
          ]
        },
        {
          "output_type": "stream",
          "name": "stderr",
          "text": [
            "Epoch 4/5 - FedShare: 100%|██████████| 750/750 [00:14<00:00, 53.08it/s]"
          ]
        },
        {
          "output_type": "stream",
          "name": "stdout",
          "text": [
            "Epoch [4/5] - FedShare, Loss: 0.1851\n"
          ]
        },
        {
          "output_type": "stream",
          "name": "stderr",
          "text": [
            "\n"
          ]
        },
        {
          "output_type": "stream",
          "name": "stdout",
          "text": [
            "Epoch [4/5] - FedShare, Validation Accuracy: 91.97%\n"
          ]
        },
        {
          "output_type": "stream",
          "name": "stderr",
          "text": [
            "Epoch 5/5 - FedShare: 100%|██████████| 750/750 [00:13<00:00, 54.70it/s]"
          ]
        },
        {
          "output_type": "stream",
          "name": "stdout",
          "text": [
            "Epoch [5/5] - FedShare, Loss: 0.1517\n"
          ]
        },
        {
          "output_type": "stream",
          "name": "stderr",
          "text": [
            "\n"
          ]
        },
        {
          "output_type": "stream",
          "name": "stdout",
          "text": [
            "Epoch [5/5] - FedShare, Validation Accuracy: 92.07%\n"
          ]
        },
        {
          "output_type": "stream",
          "name": "stderr",
          "text": [
            "Epoch 1/5 - FedMeta w/ UGA: 100%|██████████| 750/750 [00:13<00:00, 55.52it/s]"
          ]
        },
        {
          "output_type": "stream",
          "name": "stdout",
          "text": [
            "Epoch [1/5] - FedMeta w/ UGA, Loss: 0.4323\n"
          ]
        },
        {
          "output_type": "stream",
          "name": "stderr",
          "text": [
            "\n"
          ]
        },
        {
          "output_type": "stream",
          "name": "stdout",
          "text": [
            "Epoch [1/5] - FedMeta w/ UGA, Validation Accuracy: 88.02%\n"
          ]
        },
        {
          "output_type": "stream",
          "name": "stderr",
          "text": [
            "Epoch 2/5 - FedMeta w/ UGA: 100%|██████████| 750/750 [00:13<00:00, 56.66it/s]"
          ]
        },
        {
          "output_type": "stream",
          "name": "stdout",
          "text": [
            "Epoch [2/5] - FedMeta w/ UGA, Loss: 0.2750\n"
          ]
        },
        {
          "output_type": "stream",
          "name": "stderr",
          "text": [
            "\n"
          ]
        },
        {
          "output_type": "stream",
          "name": "stdout",
          "text": [
            "Epoch [2/5] - FedMeta w/ UGA, Validation Accuracy: 89.75%\n"
          ]
        },
        {
          "output_type": "stream",
          "name": "stderr",
          "text": [
            "Epoch 3/5 - FedMeta w/ UGA: 100%|██████████| 750/750 [00:13<00:00, 55.80it/s]"
          ]
        },
        {
          "output_type": "stream",
          "name": "stdout",
          "text": [
            "Epoch [3/5] - FedMeta w/ UGA, Loss: 0.2236\n"
          ]
        },
        {
          "output_type": "stream",
          "name": "stderr",
          "text": [
            "\n"
          ]
        },
        {
          "output_type": "stream",
          "name": "stdout",
          "text": [
            "Epoch [3/5] - FedMeta w/ UGA, Validation Accuracy: 91.30%\n"
          ]
        },
        {
          "output_type": "stream",
          "name": "stderr",
          "text": [
            "Epoch 4/5 - FedMeta w/ UGA: 100%|██████████| 750/750 [00:13<00:00, 55.76it/s]"
          ]
        },
        {
          "output_type": "stream",
          "name": "stdout",
          "text": [
            "Epoch [4/5] - FedMeta w/ UGA, Loss: 0.1881\n"
          ]
        },
        {
          "output_type": "stream",
          "name": "stderr",
          "text": [
            "\n"
          ]
        },
        {
          "output_type": "stream",
          "name": "stdout",
          "text": [
            "Epoch [4/5] - FedMeta w/ UGA, Validation Accuracy: 91.68%\n"
          ]
        },
        {
          "output_type": "stream",
          "name": "stderr",
          "text": [
            "Epoch 5/5 - FedMeta w/ UGA: 100%|██████████| 750/750 [00:15<00:00, 47.90it/s]"
          ]
        },
        {
          "output_type": "stream",
          "name": "stdout",
          "text": [
            "Epoch [5/5] - FedMeta w/ UGA, Loss: 0.1543\n"
          ]
        },
        {
          "output_type": "stream",
          "name": "stderr",
          "text": [
            "\n"
          ]
        },
        {
          "output_type": "stream",
          "name": "stdout",
          "text": [
            "Epoch [5/5] - FedMeta w/ UGA, Validation Accuracy: 91.87%\n"
          ]
        }
      ]
    },
    {
      "cell_type": "code",
      "source": [
        "# Number of writers in Dmeta\n",
        "num_writers_dmeta = int(overlap_percentage / 100 * len(client_dataset))\n",
        "\n",
        "# Select writers from D and the auxiliary dataset\n",
        "writers_d = client_dataset.targets.unique().tolist()\n",
        "writers_auxiliary = list(range(100))  # Assuming 100 writers in the auxiliary dataset\n",
        "\n",
        "# Select a certain proportion of writers from D and the rest from the auxiliary dataset\n",
        "selected_writers_d = writers_d[:len(writers_d) - num_writers_dmeta]\n",
        "selected_writers_auxiliary = writers_auxiliary[:num_writers_dmeta]\n",
        "\n",
        "# Combine selected writers to form Dmeta writers\n",
        "writers_dmeta = selected_writers_d + selected_writers_auxiliary\n",
        "\n",
        "# Sample 1% examples to form Dmeta\n",
        "num_samples_dmeta = int(0.01 * len(client_dataset))\n",
        "indices_dmeta = torch.randperm(len(client_dataset))[:num_samples_dmeta]\n",
        "\n",
        "# Create Dmeta by selecting examples from D and auxiliary dataset\n",
        "data_dmeta = [client_dataset[i] for i in indices_dmeta]\n",
        "dmeta_loader = DataLoader(data_dmeta, batch_size=batch_sizes[0], shuffle=True, num_workers=4)"
      ],
      "metadata": {
        "id": "BXxeytPknmPY"
      },
      "execution_count": 25,
      "outputs": []
    },
    {
      "cell_type": "code",
      "source": [
        "# Train & Evaluate FedAvg\n",
        "fedavg_performance_dmeta = train_federated_learning_with_dmeta(fedavg_model, train_loaders[0], dmeta_loader, 'FedAvg with Dmeta')\n",
        "\n",
        "# Train & Evaluate FedProx\n",
        "fedprox_performance_dmeta = train_federated_learning_with_dmeta(fedprox_model, train_loaders[0], dmeta_loader, 'FedProx with Dmeta')\n",
        "\n",
        "# Train & Evaluate FedShare\n",
        "fedshare_performance_dmeta = train_federated_learning_with_dmeta(fedshare_model, train_loaders[0], dmeta_loader, 'FedShare with Dmeta')\n",
        "\n",
        "# Train & Evaluate FedMeta w/ UGA\n",
        "fedmeta_uga_performance_dmeta = train_federated_learning_with_dmeta(fedmeta_uga_model, train_loaders[0], dmeta_loader, 'FedMeta w/ UGA with Dmeta')"
      ],
      "metadata": {
        "colab": {
          "base_uri": "https://localhost:8080/"
        },
        "id": "SGL7i3wtzFNV",
        "outputId": "c30142eb-46f1-4411-fd48-0d4b14688223"
      },
      "execution_count": 26,
      "outputs": [
        {
          "output_type": "stream",
          "name": "stderr",
          "text": [
            "Epoch 1/5 - FedAvg with Dmeta - D: 100%|██████████| 750/750 [00:13<00:00, 55.53it/s]\n",
            "Epoch 1/5 - FedAvg with Dmeta - Dmeta: 100%|██████████| 10/10 [00:00<00:00, 46.02it/s]"
          ]
        },
        {
          "output_type": "stream",
          "name": "stdout",
          "text": [
            "Epoch [1/5] - FedAvg with Dmeta, Loss: 0.1251\n"
          ]
        },
        {
          "output_type": "stream",
          "name": "stderr",
          "text": [
            "\n"
          ]
        },
        {
          "output_type": "stream",
          "name": "stdout",
          "text": [
            "Epoch [1/5] - FedAvg with Dmeta, Validation Accuracy: 91.75%\n"
          ]
        },
        {
          "output_type": "stream",
          "name": "stderr",
          "text": [
            "Epoch 2/5 - FedAvg with Dmeta - D: 100%|██████████| 750/750 [00:13<00:00, 55.42it/s]\n",
            "Epoch 2/5 - FedAvg with Dmeta - Dmeta: 100%|██████████| 10/10 [00:00<00:00, 47.16it/s]"
          ]
        },
        {
          "output_type": "stream",
          "name": "stdout",
          "text": [
            "Epoch [2/5] - FedAvg with Dmeta, Loss: 0.0975\n"
          ]
        },
        {
          "output_type": "stream",
          "name": "stderr",
          "text": [
            "\n"
          ]
        },
        {
          "output_type": "stream",
          "name": "stdout",
          "text": [
            "Epoch [2/5] - FedAvg with Dmeta, Validation Accuracy: 92.51%\n"
          ]
        },
        {
          "output_type": "stream",
          "name": "stderr",
          "text": [
            "Epoch 3/5 - FedAvg with Dmeta - D: 100%|██████████| 750/750 [00:13<00:00, 55.13it/s]\n",
            "Epoch 3/5 - FedAvg with Dmeta - Dmeta: 100%|██████████| 10/10 [00:00<00:00, 47.99it/s]"
          ]
        },
        {
          "output_type": "stream",
          "name": "stdout",
          "text": [
            "Epoch [3/5] - FedAvg with Dmeta, Loss: 0.0747\n"
          ]
        },
        {
          "output_type": "stream",
          "name": "stderr",
          "text": [
            "\n"
          ]
        },
        {
          "output_type": "stream",
          "name": "stdout",
          "text": [
            "Epoch [3/5] - FedAvg with Dmeta, Validation Accuracy: 91.77%\n"
          ]
        },
        {
          "output_type": "stream",
          "name": "stderr",
          "text": [
            "Epoch 4/5 - FedAvg with Dmeta - D: 100%|██████████| 750/750 [00:13<00:00, 54.38it/s]\n",
            "Epoch 4/5 - FedAvg with Dmeta - Dmeta: 100%|██████████| 10/10 [00:00<00:00, 46.93it/s]"
          ]
        },
        {
          "output_type": "stream",
          "name": "stdout",
          "text": [
            "Epoch [4/5] - FedAvg with Dmeta, Loss: 0.0577\n"
          ]
        },
        {
          "output_type": "stream",
          "name": "stderr",
          "text": [
            "\n"
          ]
        },
        {
          "output_type": "stream",
          "name": "stdout",
          "text": [
            "Epoch [4/5] - FedAvg with Dmeta, Validation Accuracy: 92.12%\n"
          ]
        },
        {
          "output_type": "stream",
          "name": "stderr",
          "text": [
            "Epoch 5/5 - FedAvg with Dmeta - D: 100%|██████████| 750/750 [00:13<00:00, 57.64it/s]\n",
            "Epoch 5/5 - FedAvg with Dmeta - Dmeta: 100%|██████████| 10/10 [00:00<00:00, 31.63it/s]"
          ]
        },
        {
          "output_type": "stream",
          "name": "stdout",
          "text": [
            "Epoch [5/5] - FedAvg with Dmeta, Loss: 0.0446\n"
          ]
        },
        {
          "output_type": "stream",
          "name": "stderr",
          "text": [
            "\n"
          ]
        },
        {
          "output_type": "stream",
          "name": "stdout",
          "text": [
            "Epoch [5/5] - FedAvg with Dmeta, Validation Accuracy: 92.47%\n"
          ]
        },
        {
          "output_type": "stream",
          "name": "stderr",
          "text": [
            "Epoch 1/5 - FedProx with Dmeta - D: 100%|██████████| 750/750 [00:13<00:00, 54.58it/s]\n",
            "Epoch 1/5 - FedProx with Dmeta - Dmeta: 100%|██████████| 10/10 [00:00<00:00, 41.36it/s]"
          ]
        },
        {
          "output_type": "stream",
          "name": "stdout",
          "text": [
            "Epoch [1/5] - FedProx with Dmeta, Loss: 0.1294\n"
          ]
        },
        {
          "output_type": "stream",
          "name": "stderr",
          "text": [
            "\n"
          ]
        },
        {
          "output_type": "stream",
          "name": "stdout",
          "text": [
            "Epoch [1/5] - FedProx with Dmeta, Validation Accuracy: 91.92%\n"
          ]
        },
        {
          "output_type": "stream",
          "name": "stderr",
          "text": [
            "Epoch 2/5 - FedProx with Dmeta - D: 100%|██████████| 750/750 [00:13<00:00, 54.76it/s]\n",
            "Epoch 2/5 - FedProx with Dmeta - Dmeta: 100%|██████████| 10/10 [00:00<00:00, 43.50it/s]"
          ]
        },
        {
          "output_type": "stream",
          "name": "stdout",
          "text": [
            "Epoch [2/5] - FedProx with Dmeta, Loss: 0.0989\n"
          ]
        },
        {
          "output_type": "stream",
          "name": "stderr",
          "text": [
            "\n"
          ]
        },
        {
          "output_type": "stream",
          "name": "stdout",
          "text": [
            "Epoch [2/5] - FedProx with Dmeta, Validation Accuracy: 91.66%\n"
          ]
        },
        {
          "output_type": "stream",
          "name": "stderr",
          "text": [
            "Epoch 3/5 - FedProx with Dmeta - D: 100%|██████████| 750/750 [00:13<00:00, 54.58it/s]\n",
            "Epoch 3/5 - FedProx with Dmeta - Dmeta: 100%|██████████| 10/10 [00:00<00:00, 41.85it/s]"
          ]
        },
        {
          "output_type": "stream",
          "name": "stdout",
          "text": [
            "Epoch [3/5] - FedProx with Dmeta, Loss: 0.0792\n"
          ]
        },
        {
          "output_type": "stream",
          "name": "stderr",
          "text": [
            "\n"
          ]
        },
        {
          "output_type": "stream",
          "name": "stdout",
          "text": [
            "Epoch [3/5] - FedProx with Dmeta, Validation Accuracy: 92.10%\n"
          ]
        },
        {
          "output_type": "stream",
          "name": "stderr",
          "text": [
            "Epoch 4/5 - FedProx with Dmeta - D: 100%|██████████| 750/750 [00:13<00:00, 55.10it/s]\n",
            "Epoch 4/5 - FedProx with Dmeta - Dmeta: 100%|██████████| 10/10 [00:00<00:00, 45.29it/s]"
          ]
        },
        {
          "output_type": "stream",
          "name": "stdout",
          "text": [
            "Epoch [4/5] - FedProx with Dmeta, Loss: 0.0612\n"
          ]
        },
        {
          "output_type": "stream",
          "name": "stderr",
          "text": [
            "\n"
          ]
        },
        {
          "output_type": "stream",
          "name": "stdout",
          "text": [
            "Epoch [4/5] - FedProx with Dmeta, Validation Accuracy: 91.67%\n"
          ]
        },
        {
          "output_type": "stream",
          "name": "stderr",
          "text": [
            "Epoch 5/5 - FedProx with Dmeta - D: 100%|██████████| 750/750 [00:13<00:00, 57.45it/s]\n",
            "Epoch 5/5 - FedProx with Dmeta - Dmeta: 100%|██████████| 10/10 [00:00<00:00, 28.82it/s]"
          ]
        },
        {
          "output_type": "stream",
          "name": "stdout",
          "text": [
            "Epoch [5/5] - FedProx with Dmeta, Loss: 0.0479\n"
          ]
        },
        {
          "output_type": "stream",
          "name": "stderr",
          "text": [
            "\n"
          ]
        },
        {
          "output_type": "stream",
          "name": "stdout",
          "text": [
            "Epoch [5/5] - FedProx with Dmeta, Validation Accuracy: 91.85%\n"
          ]
        },
        {
          "output_type": "stream",
          "name": "stderr",
          "text": [
            "Epoch 1/5 - FedShare with Dmeta - D: 100%|██████████| 750/750 [00:13<00:00, 56.25it/s]\n",
            "Epoch 1/5 - FedShare with Dmeta - Dmeta: 100%|██████████| 10/10 [00:00<00:00, 47.49it/s]"
          ]
        },
        {
          "output_type": "stream",
          "name": "stdout",
          "text": [
            "Epoch [1/5] - FedShare with Dmeta, Loss: 0.1296\n"
          ]
        },
        {
          "output_type": "stream",
          "name": "stderr",
          "text": [
            "\n"
          ]
        },
        {
          "output_type": "stream",
          "name": "stdout",
          "text": [
            "Epoch [1/5] - FedShare with Dmeta, Validation Accuracy: 91.80%\n"
          ]
        },
        {
          "output_type": "stream",
          "name": "stderr",
          "text": [
            "Epoch 2/5 - FedShare with Dmeta - D: 100%|██████████| 750/750 [00:13<00:00, 56.00it/s]\n",
            "Epoch 2/5 - FedShare with Dmeta - Dmeta: 100%|██████████| 10/10 [00:00<00:00, 46.31it/s]"
          ]
        },
        {
          "output_type": "stream",
          "name": "stdout",
          "text": [
            "Epoch [2/5] - FedShare with Dmeta, Loss: 0.0990\n"
          ]
        },
        {
          "output_type": "stream",
          "name": "stderr",
          "text": [
            "\n"
          ]
        },
        {
          "output_type": "stream",
          "name": "stdout",
          "text": [
            "Epoch [2/5] - FedShare with Dmeta, Validation Accuracy: 91.72%\n"
          ]
        },
        {
          "output_type": "stream",
          "name": "stderr",
          "text": [
            "Epoch 3/5 - FedShare with Dmeta - D: 100%|██████████| 750/750 [00:13<00:00, 55.33it/s]\n",
            "Epoch 3/5 - FedShare with Dmeta - Dmeta: 100%|██████████| 10/10 [00:00<00:00, 43.81it/s]"
          ]
        },
        {
          "output_type": "stream",
          "name": "stdout",
          "text": [
            "Epoch [3/5] - FedShare with Dmeta, Loss: 0.0762\n"
          ]
        },
        {
          "output_type": "stream",
          "name": "stderr",
          "text": [
            "\n"
          ]
        },
        {
          "output_type": "stream",
          "name": "stdout",
          "text": [
            "Epoch [3/5] - FedShare with Dmeta, Validation Accuracy: 91.89%\n"
          ]
        },
        {
          "output_type": "stream",
          "name": "stderr",
          "text": [
            "Epoch 4/5 - FedShare with Dmeta - D: 100%|██████████| 750/750 [00:13<00:00, 55.90it/s]\n",
            "Epoch 4/5 - FedShare with Dmeta - Dmeta: 100%|██████████| 10/10 [00:00<00:00, 43.20it/s]"
          ]
        },
        {
          "output_type": "stream",
          "name": "stdout",
          "text": [
            "Epoch [4/5] - FedShare with Dmeta, Loss: 0.0603\n"
          ]
        },
        {
          "output_type": "stream",
          "name": "stderr",
          "text": [
            "\n"
          ]
        },
        {
          "output_type": "stream",
          "name": "stdout",
          "text": [
            "Epoch [4/5] - FedShare with Dmeta, Validation Accuracy: 91.78%\n"
          ]
        },
        {
          "output_type": "stream",
          "name": "stderr",
          "text": [
            "Epoch 5/5 - FedShare with Dmeta - D: 100%|██████████| 750/750 [00:13<00:00, 55.58it/s]\n",
            "Epoch 5/5 - FedShare with Dmeta - Dmeta: 100%|██████████| 10/10 [00:00<00:00, 42.93it/s]"
          ]
        },
        {
          "output_type": "stream",
          "name": "stdout",
          "text": [
            "Epoch [5/5] - FedShare with Dmeta, Loss: 0.0473\n"
          ]
        },
        {
          "output_type": "stream",
          "name": "stderr",
          "text": [
            "\n"
          ]
        },
        {
          "output_type": "stream",
          "name": "stdout",
          "text": [
            "Epoch [5/5] - FedShare with Dmeta, Validation Accuracy: 91.76%\n"
          ]
        },
        {
          "output_type": "stream",
          "name": "stderr",
          "text": [
            "Epoch 1/5 - FedMeta w/ UGA with Dmeta - D: 100%|██████████| 750/750 [00:12<00:00, 57.93it/s]\n",
            "Epoch 1/5 - FedMeta w/ UGA with Dmeta - Dmeta: 100%|██████████| 10/10 [00:00<00:00, 29.20it/s]"
          ]
        },
        {
          "output_type": "stream",
          "name": "stdout",
          "text": [
            "Epoch [1/5] - FedMeta w/ UGA with Dmeta, Loss: 0.1320\n"
          ]
        },
        {
          "output_type": "stream",
          "name": "stderr",
          "text": [
            "\n"
          ]
        },
        {
          "output_type": "stream",
          "name": "stdout",
          "text": [
            "Epoch [1/5] - FedMeta w/ UGA with Dmeta, Validation Accuracy: 91.66%\n"
          ]
        },
        {
          "output_type": "stream",
          "name": "stderr",
          "text": [
            "Epoch 2/5 - FedMeta w/ UGA with Dmeta - D: 100%|██████████| 750/750 [00:13<00:00, 54.93it/s]\n",
            "Epoch 2/5 - FedMeta w/ UGA with Dmeta - Dmeta: 100%|██████████| 10/10 [00:00<00:00, 46.18it/s]"
          ]
        },
        {
          "output_type": "stream",
          "name": "stdout",
          "text": [
            "Epoch [2/5] - FedMeta w/ UGA with Dmeta, Loss: 0.1021\n"
          ]
        },
        {
          "output_type": "stream",
          "name": "stderr",
          "text": [
            "\n"
          ]
        },
        {
          "output_type": "stream",
          "name": "stdout",
          "text": [
            "Epoch [2/5] - FedMeta w/ UGA with Dmeta, Validation Accuracy: 92.34%\n"
          ]
        },
        {
          "output_type": "stream",
          "name": "stderr",
          "text": [
            "Epoch 3/5 - FedMeta w/ UGA with Dmeta - D: 100%|██████████| 750/750 [00:13<00:00, 56.42it/s]\n",
            "Epoch 3/5 - FedMeta w/ UGA with Dmeta - Dmeta: 100%|██████████| 10/10 [00:00<00:00, 44.90it/s]"
          ]
        },
        {
          "output_type": "stream",
          "name": "stdout",
          "text": [
            "Epoch [3/5] - FedMeta w/ UGA with Dmeta, Loss: 0.0794\n"
          ]
        },
        {
          "output_type": "stream",
          "name": "stderr",
          "text": [
            "\n"
          ]
        },
        {
          "output_type": "stream",
          "name": "stdout",
          "text": [
            "Epoch [3/5] - FedMeta w/ UGA with Dmeta, Validation Accuracy: 91.39%\n"
          ]
        },
        {
          "output_type": "stream",
          "name": "stderr",
          "text": [
            "Epoch 4/5 - FedMeta w/ UGA with Dmeta - D: 100%|██████████| 750/750 [00:13<00:00, 56.11it/s]\n",
            "Epoch 4/5 - FedMeta w/ UGA with Dmeta - Dmeta: 100%|██████████| 10/10 [00:00<00:00, 45.39it/s]"
          ]
        },
        {
          "output_type": "stream",
          "name": "stdout",
          "text": [
            "Epoch [4/5] - FedMeta w/ UGA with Dmeta, Loss: 0.0639\n"
          ]
        },
        {
          "output_type": "stream",
          "name": "stderr",
          "text": [
            "\n"
          ]
        },
        {
          "output_type": "stream",
          "name": "stdout",
          "text": [
            "Epoch [4/5] - FedMeta w/ UGA with Dmeta, Validation Accuracy: 91.90%\n"
          ]
        },
        {
          "output_type": "stream",
          "name": "stderr",
          "text": [
            "Epoch 5/5 - FedMeta w/ UGA with Dmeta - D: 100%|██████████| 750/750 [00:13<00:00, 56.75it/s]\n",
            "Epoch 5/5 - FedMeta w/ UGA with Dmeta - Dmeta: 100%|██████████| 10/10 [00:00<00:00, 45.58it/s]"
          ]
        },
        {
          "output_type": "stream",
          "name": "stdout",
          "text": [
            "Epoch [5/5] - FedMeta w/ UGA with Dmeta, Loss: 0.0490\n"
          ]
        },
        {
          "output_type": "stream",
          "name": "stderr",
          "text": [
            "\n"
          ]
        },
        {
          "output_type": "stream",
          "name": "stdout",
          "text": [
            "Epoch [5/5] - FedMeta w/ UGA with Dmeta, Validation Accuracy: 92.06%\n"
          ]
        }
      ]
    },
    {
      "cell_type": "code",
      "source": [
        "# Create comparison plots for FEMNIST\n",
        "plt.figure(figsize=(12, 8))\n",
        "\n",
        "# Test accuracy comparison\n",
        "plt.subplot(2, 1, 1)\n",
        "plt.title(\"Accuracy Comparison\")\n",
        "sns.lineplot(x=range(0, communication_rounds, 20), y=fedavg_performance['accuracy'], label='FedAvg')\n",
        "sns.lineplot(x=range(0, communication_rounds, 20), y=fedprox_performance['accuracy'], label='FedProx')\n",
        "sns.lineplot(x=range(0, communication_rounds, 20), y=fedshare_performance['accuracy'], label='FedShare')\n",
        "sns.lineplot(x=range(0, communication_rounds, 20), y=fedmeta_uga_performance['accuracy'], label='FedMeta w/ UGA')\n",
        "\n",
        "sns.lineplot(x=range(0, communication_rounds, 20), y=fedavg_performance_dmeta['accuracy'], label='FedAvg - Dmeta')\n",
        "sns.lineplot(x=range(0, communication_rounds, 20), y=fedprox_performance_dmeta['accuracy'], label='FedProx - Dmeta')\n",
        "sns.lineplot(x=range(0, communication_rounds, 20), y=fedshare_performance_dmeta['accuracy'], label='FedShare - Dmeta')\n",
        "sns.lineplot(x=range(0, communication_rounds, 20), y=fedmeta_uga_performance_dmeta['accuracy'], label='FedMeta w/ UGA - Dmeta')\n",
        "\n",
        "# Loss comparison\n",
        "plt.subplot(2, 1, 2)\n",
        "plt.title(\"Loss Comparison\")\n",
        "sns.lineplot(x=range(0, communication_rounds, 20), y=fedavg_performance_dmeta['loss'], label='FedAvg')\n",
        "sns.lineplot(x=range(0, communication_rounds, 20), y=fedprox_performance['loss'], label='FedProx')\n",
        "sns.lineplot(x=range(0, communication_rounds, 20), y=fedshare_performance['loss'], label='FedShare')\n",
        "sns.lineplot(x=range(0, communication_rounds, 20), y=fedmeta_uga_performance['loss'], label='FedMeta w/ UGA')\n",
        "\n",
        "sns.lineplot(x=range(0, communication_rounds, 20), y=fedavg_performance_dmeta['loss'], label='FedAvg - Dmeta')\n",
        "sns.lineplot(x=range(0, communication_rounds, 20), y=fedprox_performance_dmeta['loss'], label='FedProx - Dmeta')\n",
        "sns.lineplot(x=range(0, communication_rounds, 20), y=fedshare_performance_dmeta['loss'], label='FedShare - Dmeta')\n",
        "sns.lineplot(x=range(0, communication_rounds, 20), y=fedmeta_uga_performance_dmeta['loss'], label='FedMeta w/ UGA - Dmeta')\n",
        "\n",
        "plt.show()"
      ],
      "metadata": {
        "colab": {
          "base_uri": "https://localhost:8080/",
          "height": 699
        },
        "id": "y9kvXdb07NJD",
        "outputId": "4fe7e0d8-e6b4-430b-bc10-1c4e6608000e"
      },
      "execution_count": 27,
      "outputs": [
        {
          "output_type": "display_data",
          "data": {
            "text/plain": [
              "<Figure size 1200x800 with 2 Axes>"
            ],
            "image/png": "[encoded data removed]"
          },
          "metadata": {}
        }
      ]
    },
    {
      "cell_type": "code",
      "source": [],
      "metadata": {
        "id": "NihXwmAGpz0K"
      },
      "execution_count": null,
      "outputs": []
    }
  ]
}